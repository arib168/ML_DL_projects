{
 "cells": [
  {
   "cell_type": "markdown",
   "metadata": {},
   "source": [
    "### General Instructions \n",
    "\n",
    "- The assessment has 9 questions, each question is a separate function\n",
    "- The cells in the Jupyter notebook can be executed any number of times for testing the solution\n",
    "- Refrain from modifying the boilerplate code as it may lead to unexpected behavior \n",
    "- The solution is to be written between the comments `# code starts here` and `# code ends here`\n",
    "- On completing all the questions, the assessment is to be submitted on moodle for evaluation\n",
    "- The kernel of the Jupyter notebook is to be set as `Python 3 (ipykernel)` if not set already\n",
    "- Include imports as necessary\n"
   ]
  },
  {
   "cell_type": "code",
   "execution_count": 2,
   "metadata": {},
   "outputs": [],
   "source": [
    "# Required imports\n",
    "\n",
    "from sklearn.datasets import fetch_openml\n",
    "import numpy as np\n",
    "import sklearn\n",
    "import matplotlib as mpl\n",
    "from sklearn.metrics import confusion_matrix, ConfusionMatrixDisplay\n",
    "import matplotlib.pyplot as plt\n"
   ]
  },
  {
   "cell_type": "markdown",
   "metadata": {},
   "source": [
    "### Question 1 : \n",
    "\n",
    "Load the MNIST dataset from sklearn. Use the `\"mnist_784\"` dataset, set the `version=1, as_frame=False, parser=\"auto`"
   ]
  },
  {
   "cell_type": "code",
   "execution_count": 3,
   "metadata": {},
   "outputs": [],
   "source": [
    "def load_the_dataset() -> sklearn.utils._bunch.Bunch:\n",
    "    mnist = None\n",
    "    # code starts here\n",
    "\n",
    "    # code ends here\n",
    "    return mnist\n"
   ]
  },
  {
   "cell_type": "code",
   "execution_count": 4,
   "metadata": {},
   "outputs": [],
   "source": [
    "# store the result of the dataset\n",
    "\n",
    "mnist = load_the_dataset()"
   ]
  },
  {
   "cell_type": "code",
   "execution_count": null,
   "metadata": {},
   "outputs": [],
   "source": []
  },
  {
   "cell_type": "markdown",
   "metadata": {},
   "source": [
    "### Question 2 \n",
    "\n",
    "Separate the dependent (data) and independent (target) columns/fields of the dataset"
   ]
  },
  {
   "cell_type": "code",
   "execution_count": 5,
   "metadata": {},
   "outputs": [],
   "source": [
    "def separate_data_and_target(mnist : sklearn.utils._bunch.Bunch) -> tuple:\n",
    "    X, y = np.ndarray([]), np.ndarray([])\n",
    "    # code starts here\n",
    "    \n",
    "    # code ends here\n",
    "    return X, y "
   ]
  },
  {
   "cell_type": "code",
   "execution_count": 6,
   "metadata": {},
   "outputs": [],
   "source": [
    "# dependent : X, independent : y\n",
    "\n",
    "X, y = separate_data_and_target(mnist)"
   ]
  },
  {
   "cell_type": "markdown",
   "metadata": {},
   "source": [
    "### Question 3\n",
    "\n",
    "Given the index and file name, plot and save the dataset image in gray scale. Do not plot the axes"
   ]
  },
  {
   "cell_type": "code",
   "execution_count": 7,
   "metadata": {},
   "outputs": [],
   "source": [
    "def plot_and_save_image_given_index_in_gray_scale(X : np.ndarray, \n",
    "                                      index : int, \n",
    "                                      image_file_name : str) -> None:\n",
    "    # images pixels are stored as a numpy array\n",
    "    some_digit = np.array([])\n",
    "    # code starts here\n",
    "\n",
    "    # code ends here\n",
    "    return None\n"
   ]
  },
  {
   "cell_type": "code",
   "execution_count": null,
   "metadata": {},
   "outputs": [],
   "source": [
    "# follows zero indexing and save the image into the filename\n",
    "\n",
    "index = 0 \n",
    "image_file_name = \"training_image.png\"\n",
    "\n",
    "plot_and_save_image_given_index_in_gray_scale(X, index, image_file_name)"
   ]
  },
  {
   "cell_type": "markdown",
   "metadata": {},
   "source": [
    "### Question 4 \n",
    "\n",
    "Convert the target into 8-bit unsigned int"
   ]
  },
  {
   "cell_type": "code",
   "execution_count": 9,
   "metadata": {},
   "outputs": [],
   "source": [
    "def convert_labels_to_8_bit_unsigned_int(y : np.ndarray) -> np.ndarray:\n",
    "    # code starts here \n",
    "\n",
    "    # code ends here\n",
    "    return  y "
   ]
  },
  {
   "cell_type": "code",
   "execution_count": 10,
   "metadata": {},
   "outputs": [],
   "source": [
    "# convert labels to 8-bit unsigned integer\n",
    "\n",
    "y = convert_labels_to_8_bit_unsigned_int(y)"
   ]
  },
  {
   "cell_type": "markdown",
   "metadata": {},
   "source": [
    "### Question 5\n",
    "\n",
    "Split the dataset into training and testing at the index provided. Index 0 to the split index is for training while the split index to the end is for testing. The requirement is to build a model that performs binary classification - if the number is 5 or not, modify the labels accordingly to take boolean values"
   ]
  },
  {
   "cell_type": "code",
   "execution_count": 11,
   "metadata": {},
   "outputs": [],
   "source": [
    "def split_into_training_and_testing(X : np.ndarray, y : np.ndarray, split_at : int) -> tuple:\n",
    "    X_train, X_test, y_train_is_5, y_test_is_5 = np.ndarray([]), np.ndarray([]), np.ndarray([]), np.ndarray([])\n",
    "    # code starts here\n",
    "\n",
    "    \n",
    "    \n",
    "    \n",
    "    \n",
    "    # code ends here\n",
    "    return X_train, X_test, y_train_is_5, y_test_is_5"
   ]
  },
  {
   "cell_type": "code",
   "execution_count": 12,
   "metadata": {},
   "outputs": [],
   "source": [
    "# split into training and testing at the specified index\n",
    "\n",
    "split_at = 60000 \n",
    "X_train, X_test, y_train_is_5, y_test_is_5 = split_into_training_and_testing(X, y, split_at)"
   ]
  },
  {
   "cell_type": "markdown",
   "metadata": {},
   "source": [
    "### Question 6 \n",
    "\n",
    "Fit the model on the training dataset. Use a suitable classifier and set the appropriate hyper parameters"
   ]
  },
  {
   "cell_type": "code",
   "execution_count": 13,
   "metadata": {},
   "outputs": [],
   "source": [
    "# Fit a suitable model and return it \n",
    "\n",
    "def fit_the_model_on_the_training_data(X_train : np.ndarray, y_train_is_5 : np.ndarray):\n",
    "    model = None \n",
    "    # code starts here\n",
    "\n",
    "    # code starts here\n",
    "    return model"
   ]
  },
  {
   "cell_type": "code",
   "execution_count": 14,
   "metadata": {},
   "outputs": [],
   "source": [
    "# train the training data on a suitable classifier\n",
    "\n",
    "model = fit_the_model_on_the_training_data(X_train, y_train_is_5)"
   ]
  },
  {
   "cell_type": "markdown",
   "metadata": {},
   "source": [
    "### Question 7 \n",
    "\n",
    "Test the model on the testing dataset and return the predicted labels for the test dataset"
   ]
  },
  {
   "cell_type": "code",
   "execution_count": 15,
   "metadata": {},
   "outputs": [],
   "source": [
    "def test_the_model(model, X_test : np.ndarray) -> np.ndarray:\n",
    "    y_prediction = np.ndarray([]) \n",
    "    # code starts here\n",
    "    \n",
    "    # code ends here\n",
    "    return y_prediction"
   ]
  },
  {
   "cell_type": "code",
   "execution_count": 16,
   "metadata": {},
   "outputs": [],
   "source": [
    "# prediction labels for the test dataset \n",
    "\n",
    "y_prediction = test_the_model(model, X_test)"
   ]
  },
  {
   "cell_type": "markdown",
   "metadata": {},
   "source": [
    "### Question 8\n",
    "\n",
    "Return the mean accuracy obtained by performing cross validation. The number of splits to be performed is provided"
   ]
  },
  {
   "cell_type": "code",
   "execution_count": 17,
   "metadata": {},
   "outputs": [],
   "source": [
    "def apply_cross_validation_compute_mean_accuracy(model, \n",
    "                                                 X_train : np.ndarray, \n",
    "                                                 y_train_is_5 : np.ndarray,\n",
    "                                                 cv : int) -> float:\n",
    "    accuracy = 0.0\n",
    "    # code starts\n",
    "   \n",
    "    # code ends here\n",
    "    return accuracy\n"
   ]
  },
  {
   "cell_type": "code",
   "execution_count": null,
   "metadata": {},
   "outputs": [],
   "source": [
    "# number of splits\n",
    "\n",
    "cv = 4\n",
    "accuracy = apply_cross_validation_compute_mean_accuracy(model, X_train, y_train_is_5, cv)\n",
    "\n",
    "print(\"The accuracy is {}\".format(accuracy))"
   ]
  },
  {
   "cell_type": "markdown",
   "metadata": {},
   "source": [
    "### Question 9 \n",
    "\n",
    "Plot and return the confusion matrix. Use the prediction generated by the model in `Question 7`"
   ]
  },
  {
   "cell_type": "code",
   "execution_count": 19,
   "metadata": {},
   "outputs": [],
   "source": [
    "def plot_and_return_confusion_matrix(y_test_is_5 : np.ndarray, \n",
    "                                     y_prediction : np.ndarray,\n",
    "                                     confusion_matrix_image_path : str) -> np.ndarray:\n",
    "    conf_matrix = np.ndarray([])\n",
    "    # code starts here\n",
    "   \n",
    "    # code ends here\n",
    "    return conf_matrix"
   ]
  },
  {
   "cell_type": "code",
   "execution_count": null,
   "metadata": {},
   "outputs": [],
   "source": [
    "# save the plot of the confusion matrix and return the matrix\n",
    "\n",
    "confusion_matrix_image_path = \"confusion_matrix.png\"\n",
    "\n",
    "conf_matrix = plot_and_return_confusion_matrix(y_test_is_5, y_prediction, confusion_matrix_image_path)"
   ]
  },
  {
   "cell_type": "markdown",
   "metadata": {},
   "source": [
    "### Question 10\n",
    "\n",
    "Use the confusion matrix to compute the recall and precision. (Do not use any built-in modules/functions)"
   ]
  },
  {
   "cell_type": "code",
   "execution_count": 25,
   "metadata": {},
   "outputs": [],
   "source": [
    "def compute_recall_and_precision_from_confusion_matrix(conf_matrix : np.ndarray) -> tuple:\n",
    "    recall, precision = 0.0, 0.0 \n",
    "    # code starts here\n",
    "\n",
    "    # code ends here\n",
    "    return recall, precision\n"
   ]
  },
  {
   "cell_type": "code",
   "execution_count": null,
   "metadata": {},
   "outputs": [],
   "source": [
    "recall, precision = compute_recall_and_precision_from_confusion_matrix(conf_matrix)\n",
    "\n",
    "print(\"recall : {}, precision : {}\".format(recall, precision))"
   ]
  },
  {
   "cell_type": "markdown",
   "metadata": {},
   "source": [
    "-------------------------------------------------- **ASSESSMENT ENDS HERE** ---------------------------------------------------------"
   ]
  }
 ],
 "metadata": {
  "kernelspec": {
   "display_name": "Python 3 (ipykernel)",
   "language": "python",
   "name": "python3"
  },
  "language_info": {
   "codemirror_mode": {
    "name": "ipython",
    "version": 3
   },
   "file_extension": ".py",
   "mimetype": "text/x-python",
   "name": "python",
   "nbconvert_exporter": "python",
   "pygments_lexer": "ipython3",
   "version": "3.8.10"
  }
 },
 "nbformat": 4,
 "nbformat_minor": 2
}
