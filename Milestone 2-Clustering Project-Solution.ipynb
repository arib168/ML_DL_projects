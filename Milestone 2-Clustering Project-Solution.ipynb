{
 "cells": [
  {
   "cell_type": "markdown",
   "id": "5aacf7dc",
   "metadata": {},
   "source": [
    "#### Credit Scoring and Segmentation "
   ]
  },
  {
   "cell_type": "code",
   "execution_count": null,
   "id": "0e90c66c",
   "metadata": {},
   "outputs": [],
   "source": [
    "import pandas as pd\n",
    "    \n",
    "import plotly.graph_objects as go\n",
    "import plotly.express as px\n",
    "import plotly.io as pio\n",
    "pio.templates.default = \"plotly_white\"\n",
    "\n",
    "data = pd.read_csv(\"D://Files//credit_scoring.csv\")\n",
    "print(data.head())"
   ]
  },
  {
   "cell_type": "code",
   "execution_count": null,
   "id": "4d0f049b",
   "metadata": {},
   "outputs": [],
   "source": [
    "data.info()"
   ]
  },
  {
   "cell_type": "code",
   "execution_count": null,
   "id": "7cbe9d11",
   "metadata": {},
   "outputs": [],
   "source": [
    "data.describe()"
   ]
  },
  {
   "cell_type": "code",
   "execution_count": null,
   "id": "1a642076",
   "metadata": {},
   "outputs": [],
   "source": [
    "#the distribution of the credit utilization ratio in the data:\n",
    "\n",
    "\n",
    "credit_utilization_fig = px.box(data, y='Credit Utilization Ratio',\n",
    "\n",
    "                                title='Credit Utilization Ratio Distribution')\n",
    "\n",
    "credit_utilization_fig.show()"
   ]
  },
  {
   "cell_type": "code",
   "execution_count": null,
   "id": "ef49f714",
   "metadata": {},
   "outputs": [],
   "source": [
    "# the distribution of the loan amount in the data:\n",
    "\n",
    "loan_amount_fig = px.histogram(data, x='Loan Amount', \n",
    "                          nbins=20, \n",
    "\n",
    "                               title='Loan Amount Distribution')\n",
    "\n",
    "loan_amount_fig.show()"
   ]
  },
  {
   "cell_type": "code",
   "execution_count": null,
   "id": "b89615a3",
   "metadata": {},
   "outputs": [],
   "source": [
    "#the correlation in the data:\n",
    "\n",
    "\n",
    "numeric_df = data[['Credit Utilization Ratio', \n",
    "\n",
    "                   'Payment History', \n",
    "\n",
    "                   'Number of Credit Accounts', \n",
    "\n",
    "                   'Loan Amount', 'Interest Rate', \n",
    "\n",
    "                   'Loan Term']]\n",
    "\n",
    "correlation_fig = px.imshow(numeric_df.corr(), \n",
    "\n",
    "                            title='Correlation Heatmap')\n",
    "\n",
    "correlation_fig.show()"
   ]
  },
  {
   "cell_type": "code",
   "execution_count": null,
   "id": "0fe345e8",
   "metadata": {},
   "outputs": [],
   "source": [
    "#Calculating Credit Scores"
   ]
  },
  {
   "cell_type": "code",
   "execution_count": null,
   "id": "f5c9e108",
   "metadata": {},
   "outputs": [],
   "source": [
    "# Define the mapping for categorical features\n",
    "education_level_mapping = {'High School': 1, 'Bachelor': 2, 'Master': 3, 'PhD': 4}\n",
    "employment_status_mapping = {'Unemployed': 0, 'Employed': 1, 'Self-Employed': 2}\n",
    "\n",
    "# Apply mapping to categorical features\n",
    "data['Education Level'] = data['Education Level'].map(education_level_mapping)\n",
    "data['Employment Status'] = data['Employment Status'].map(employment_status_mapping)\n",
    "\n",
    "# Calculate credit scores using the complete FICO formula\n",
    "credit_scores = []\n",
    "\n",
    "for index, row in data.iterrows():\n",
    "    payment_history = row['Payment History']\n",
    "    credit_utilization_ratio = row['Credit Utilization Ratio']\n",
    "    number_of_credit_accounts = row['Number of Credit Accounts']\n",
    "    education_level = row['Education Level']\n",
    "    employment_status = row['Employment Status']\n",
    "\n",
    "    # Apply the FICO formula to calculate the credit score\n",
    "    credit_score = (payment_history * 0.35) + (credit_utilization_ratio * 0.30) + (number_of_credit_accounts * 0.15) + (education_level * 0.10) + (employment_status * 0.10)\n",
    "    credit_scores.append(credit_score)\n",
    "\n",
    "# Add the credit scores as a new column to the DataFrame\n",
    "data['Credit Score'] = credit_scores\n",
    "\n",
    "print(data.head())"
   ]
  },
  {
   "cell_type": "markdown",
   "id": "5e975eba",
   "metadata": {},
   "source": [
    "Firstly, it defines mappings for two categorical features:\n",
    "\n",
    "“Education Level” and “Employment Status”. The “Education Level” mapping assigns numerical values to different levels of education, such as “High School” being mapped to 1, “Bachelor” to 2, “Master” to 3, and “PhD” to 4. \n",
    "\n",
    "The “Employment Status” mapping assigns numerical values to different employment statuses, such as “Unemployed” being mapped to 0, “Employed” to 1, and “Self-Employed” to 2.\n",
    "\n",
    "Next, the code applies the defined mappings to the corresponding columns in the DataFrame. It transforms the values of the “Education Level” and “Employment Status” columns from their original categorical form to the mapped numerical representations.\n",
    "\n",
    "After that, the code initiates an iteration over each row of the DataFrame to calculate the credit scores for each individual. It retrieves the values of relevant features, such as “Payment History”, “Credit Utilization Ratio”, “Number of Credit Accounts”, “Education Level”, and “Employment Status”, from each row."
   ]
  },
  {
   "cell_type": "raw",
   "id": "571b8caa",
   "metadata": {},
   "source": [
    "Within the iteration, the FICO formula is applied to calculate the credit score for each individual. The formula incorporates the weighted values of the features mentioned earlier: \n",
    "\n",
    "35% weight for “Payment History”, \n",
    "\n",
    "30% weight for “Credit Utilization Ratio”, \n",
    "\n",
    "15% weight for “Number of Credit Accounts”, \n",
    "\n",
    "10% weight for “Education Level”, \n",
    "\n",
    "and 10% weight for “Employment Status”. \n",
    "\n",
    "The calculated credit score is then stored in a list called “credit_scores”."
   ]
  },
  {
   "cell_type": "markdown",
   "id": "d4acfe4c",
   "metadata": {},
   "source": [
    "### Segmentation Based on Credit Scores"
   ]
  },
  {
   "cell_type": "code",
   "execution_count": null,
   "id": "e499eee1",
   "metadata": {},
   "outputs": [],
   "source": [
    "#use the KMeans clustering algorithm to segment customers based on their credit scores:\n",
    "from sklearn.cluster import KMeans\n",
    "\n",
    "X = data[['Credit Score']]\n",
    "kmeans = KMeans(n_clusters=4, n_init=10, random_state=42)\n",
    "kmeans.fit(X)\n",
    "data['Segment'] = kmeans.labels_"
   ]
  },
  {
   "cell_type": "code",
   "execution_count": null,
   "id": "bcd563df",
   "metadata": {},
   "outputs": [],
   "source": [
    "#  The segments:\n",
    "# Convert the 'Segment' column to category data type\n",
    "data['Segment'] = data['Segment'].astype('category')\n",
    "\n",
    "# Visualize the segments using Plotly\n",
    "fig = px.scatter(data, x=data.index, y='Credit Score', color='Segment',\n",
    "                 color_discrete_sequence=['green', 'blue', 'yellow', 'red'])\n",
    "fig.update_layout(\n",
    "    xaxis_title='Customer Index',\n",
    "    yaxis_title='Credit Score',\n",
    "    title='Customer Segmentation based on Credit Scores'\n",
    ")\n",
    "fig.show()"
   ]
  },
  {
   "cell_type": "code",
   "execution_count": null,
   "id": "9c81c3a2",
   "metadata": {},
   "outputs": [],
   "source": [
    "# name the segments based on the above clusters \n",
    "\n",
    "data['Segment'] = data['Segment'].map({2: 'Very Low', \n",
    "                                       0: 'Low',\n",
    "                                       1: 'Good',\n",
    "                                       3: \"Excellent\"})\n",
    "\n",
    "# Convert the 'Segment' column to category data type\n",
    "data['Segment'] = data['Segment'].astype('category')\n",
    "\n",
    "# Visualize the segments using Plotly\n",
    "fig = px.scatter(data, x=data.index, y='Credit Score', color='Segment',\n",
    "                 color_discrete_sequence=['green', 'blue', 'yellow', 'red'])\n",
    "fig.update_layout(\n",
    "    xaxis_title='Customer Index',\n",
    "    yaxis_title='Credit Score',\n",
    "    title='Customer Segmentation based on Credit Scores'\n",
    ")\n",
    "fig.show()"
   ]
  },
  {
   "cell_type": "code",
   "execution_count": null,
   "id": "51a32e48",
   "metadata": {},
   "outputs": [],
   "source": [
    "data[['Segment','Age','Gender']]"
   ]
  },
  {
   "cell_type": "code",
   "execution_count": null,
   "id": "956ac778",
   "metadata": {},
   "outputs": [],
   "source": [
    "def age(x):\n",
    "    if x<=30:\n",
    "        return '0-30'\n",
    "    elif 31<x<=50:\n",
    "        return '31-50'\n",
    "    else:\n",
    "        return 'above 50'\n",
    "data['age_bins']=data['Age'].map(age)"
   ]
  },
  {
   "cell_type": "code",
   "execution_count": null,
   "id": "e6d95a91",
   "metadata": {},
   "outputs": [],
   "source": [
    "data[['Segment','age_bins','Gender']]"
   ]
  },
  {
   "cell_type": "code",
   "execution_count": null,
   "id": "c64c96c8",
   "metadata": {},
   "outputs": [],
   "source": [
    "data.query('Segment==\"Excellent\" & age_bins==\"above 50\"')[['Segment','age_bins','Gender']].shape"
   ]
  },
  {
   "cell_type": "code",
   "execution_count": null,
   "id": "0e183799",
   "metadata": {},
   "outputs": [],
   "source": []
  },
  {
   "cell_type": "code",
   "execution_count": null,
   "id": "84e19030",
   "metadata": {},
   "outputs": [],
   "source": []
  }
 ],
 "metadata": {
  "kernelspec": {
   "display_name": "Python 3 (ipykernel)",
   "language": "python",
   "name": "python3"
  },
  "language_info": {
   "codemirror_mode": {
    "name": "ipython",
    "version": 3
   },
   "file_extension": ".py",
   "mimetype": "text/x-python",
   "name": "python",
   "nbconvert_exporter": "python",
   "pygments_lexer": "ipython3",
   "version": "3.11.5"
  }
 },
 "nbformat": 4,
 "nbformat_minor": 5
}
